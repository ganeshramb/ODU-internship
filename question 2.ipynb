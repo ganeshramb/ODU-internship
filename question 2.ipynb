{
 "cells": [
  {
   "cell_type": "markdown",
   "id": "92aed175",
   "metadata": {},
   "source": [
    "# Question 2\n",
    "### Intent: We would like you to learn the basics of python and data science to load a dataset, read it and perform some operations to find multiple mathematical metrics such as average, maximum, minimum and such. Here is a dataset for autos. https://drive.google.com/file/d/1QP21K5tiJAjt5NA7W2FxSe9Wam9-tIcQ/view?usp=sharing"
   ]
  },
  {
   "cell_type": "code",
   "execution_count": 2,
   "id": "94116f0b",
   "metadata": {},
   "outputs": [],
   "source": [
    "#importing required libraries for reading and the CSV file and plotting the graphs\n",
    "import numpy as np\n",
    "import pandas as pd\n",
    "import matplotlib.pyplot as plt\n",
    "%matplotlib inline"
   ]
  },
  {
   "cell_type": "markdown",
   "id": "73f1504e",
   "metadata": {},
   "source": [
    "## Reading the dataset in CSV format"
   ]
  },
  {
   "cell_type": "code",
   "execution_count": 3,
   "id": "9011fc46",
   "metadata": {},
   "outputs": [],
   "source": [
    "test=pd.read_csv(r'C:\\ODU internship\\autos.csv')"
   ]
  },
  {
   "cell_type": "code",
   "execution_count": 6,
   "id": "c0f73636",
   "metadata": {},
   "outputs": [
    {
     "data": {
      "text/plain": [
       "pandas.core.frame.DataFrame"
      ]
     },
     "execution_count": 6,
     "metadata": {},
     "output_type": "execute_result"
    }
   ],
   "source": [
    "type(test) \n",
    "# pandas returns a dataframe when read_csv function is used"
   ]
  },
  {
   "cell_type": "code",
   "execution_count": 8,
   "id": "70d73452",
   "metadata": {},
   "outputs": [
    {
     "data": {
      "text/html": [
       "<div>\n",
       "<style scoped>\n",
       "    .dataframe tbody tr th:only-of-type {\n",
       "        vertical-align: middle;\n",
       "    }\n",
       "\n",
       "    .dataframe tbody tr th {\n",
       "        vertical-align: top;\n",
       "    }\n",
       "\n",
       "    .dataframe thead th {\n",
       "        text-align: right;\n",
       "    }\n",
       "</style>\n",
       "<table border=\"1\" class=\"dataframe\">\n",
       "  <thead>\n",
       "    <tr style=\"text-align: right;\">\n",
       "      <th></th>\n",
       "      <th>dateCrawled</th>\n",
       "      <th>name</th>\n",
       "      <th>seller</th>\n",
       "      <th>offerType</th>\n",
       "      <th>price</th>\n",
       "      <th>abtest</th>\n",
       "      <th>vehicleType</th>\n",
       "      <th>yearOfRegistration</th>\n",
       "      <th>gearbox</th>\n",
       "      <th>powerPS</th>\n",
       "      <th>model</th>\n",
       "      <th>kilometer</th>\n",
       "      <th>monthOfRegistration</th>\n",
       "      <th>fuelType</th>\n",
       "      <th>brand</th>\n",
       "      <th>notRepairedDamage</th>\n",
       "      <th>dateCreated</th>\n",
       "      <th>nrOfPictures</th>\n",
       "      <th>postalCode</th>\n",
       "      <th>lastSeen</th>\n",
       "    </tr>\n",
       "  </thead>\n",
       "  <tbody>\n",
       "    <tr>\n",
       "      <th>0</th>\n",
       "      <td>2016-03-24 11:52:17</td>\n",
       "      <td>Golf_3_1.6</td>\n",
       "      <td>privat</td>\n",
       "      <td>Angebot</td>\n",
       "      <td>480</td>\n",
       "      <td>test</td>\n",
       "      <td>NaN</td>\n",
       "      <td>1993</td>\n",
       "      <td>manuell</td>\n",
       "      <td>0</td>\n",
       "      <td>golf</td>\n",
       "      <td>150000</td>\n",
       "      <td>0</td>\n",
       "      <td>benzin</td>\n",
       "      <td>volkswagen</td>\n",
       "      <td>NaN</td>\n",
       "      <td>2016-03-24 00:00:00</td>\n",
       "      <td>0</td>\n",
       "      <td>70435</td>\n",
       "      <td>2016-04-07 03:16:57</td>\n",
       "    </tr>\n",
       "    <tr>\n",
       "      <th>1</th>\n",
       "      <td>2016-03-24 10:58:45</td>\n",
       "      <td>A5_Sportback_2.7_Tdi</td>\n",
       "      <td>privat</td>\n",
       "      <td>Angebot</td>\n",
       "      <td>18300</td>\n",
       "      <td>test</td>\n",
       "      <td>coupe</td>\n",
       "      <td>2011</td>\n",
       "      <td>manuell</td>\n",
       "      <td>190</td>\n",
       "      <td>NaN</td>\n",
       "      <td>125000</td>\n",
       "      <td>5</td>\n",
       "      <td>diesel</td>\n",
       "      <td>audi</td>\n",
       "      <td>ja</td>\n",
       "      <td>2016-03-24 00:00:00</td>\n",
       "      <td>0</td>\n",
       "      <td>66954</td>\n",
       "      <td>2016-04-07 01:46:50</td>\n",
       "    </tr>\n",
       "    <tr>\n",
       "      <th>2</th>\n",
       "      <td>2016-03-14 12:52:21</td>\n",
       "      <td>Jeep_Grand_Cherokee_\"Overland\"</td>\n",
       "      <td>privat</td>\n",
       "      <td>Angebot</td>\n",
       "      <td>9800</td>\n",
       "      <td>test</td>\n",
       "      <td>suv</td>\n",
       "      <td>2004</td>\n",
       "      <td>automatik</td>\n",
       "      <td>163</td>\n",
       "      <td>grand</td>\n",
       "      <td>125000</td>\n",
       "      <td>8</td>\n",
       "      <td>diesel</td>\n",
       "      <td>jeep</td>\n",
       "      <td>NaN</td>\n",
       "      <td>2016-03-14 00:00:00</td>\n",
       "      <td>0</td>\n",
       "      <td>90480</td>\n",
       "      <td>2016-04-05 12:47:46</td>\n",
       "    </tr>\n",
       "    <tr>\n",
       "      <th>3</th>\n",
       "      <td>2016-03-17 16:54:04</td>\n",
       "      <td>GOLF_4_1_4__3T�RER</td>\n",
       "      <td>privat</td>\n",
       "      <td>Angebot</td>\n",
       "      <td>1500</td>\n",
       "      <td>test</td>\n",
       "      <td>kleinwagen</td>\n",
       "      <td>2001</td>\n",
       "      <td>manuell</td>\n",
       "      <td>75</td>\n",
       "      <td>golf</td>\n",
       "      <td>150000</td>\n",
       "      <td>6</td>\n",
       "      <td>benzin</td>\n",
       "      <td>volkswagen</td>\n",
       "      <td>nein</td>\n",
       "      <td>2016-03-17 00:00:00</td>\n",
       "      <td>0</td>\n",
       "      <td>91074</td>\n",
       "      <td>2016-03-17 17:40:17</td>\n",
       "    </tr>\n",
       "    <tr>\n",
       "      <th>4</th>\n",
       "      <td>2016-03-31 17:25:20</td>\n",
       "      <td>Skoda_Fabia_1.4_TDI_PD_Classic</td>\n",
       "      <td>privat</td>\n",
       "      <td>Angebot</td>\n",
       "      <td>3600</td>\n",
       "      <td>test</td>\n",
       "      <td>kleinwagen</td>\n",
       "      <td>2008</td>\n",
       "      <td>manuell</td>\n",
       "      <td>69</td>\n",
       "      <td>fabia</td>\n",
       "      <td>90000</td>\n",
       "      <td>7</td>\n",
       "      <td>diesel</td>\n",
       "      <td>skoda</td>\n",
       "      <td>nein</td>\n",
       "      <td>2016-03-31 00:00:00</td>\n",
       "      <td>0</td>\n",
       "      <td>60437</td>\n",
       "      <td>2016-04-06 10:17:21</td>\n",
       "    </tr>\n",
       "    <tr>\n",
       "      <th>5</th>\n",
       "      <td>2016-04-04 17:36:23</td>\n",
       "      <td>BMW_316i___e36_Limousine___Bastlerfahrzeug__Ex...</td>\n",
       "      <td>privat</td>\n",
       "      <td>Angebot</td>\n",
       "      <td>650</td>\n",
       "      <td>test</td>\n",
       "      <td>limousine</td>\n",
       "      <td>1995</td>\n",
       "      <td>manuell</td>\n",
       "      <td>102</td>\n",
       "      <td>3er</td>\n",
       "      <td>150000</td>\n",
       "      <td>10</td>\n",
       "      <td>benzin</td>\n",
       "      <td>bmw</td>\n",
       "      <td>ja</td>\n",
       "      <td>2016-04-04 00:00:00</td>\n",
       "      <td>0</td>\n",
       "      <td>33775</td>\n",
       "      <td>2016-04-06 19:17:07</td>\n",
       "    </tr>\n",
       "    <tr>\n",
       "      <th>6</th>\n",
       "      <td>2016-04-01 20:48:51</td>\n",
       "      <td>Peugeot_206_CC_110_Platinum</td>\n",
       "      <td>privat</td>\n",
       "      <td>Angebot</td>\n",
       "      <td>2200</td>\n",
       "      <td>test</td>\n",
       "      <td>cabrio</td>\n",
       "      <td>2004</td>\n",
       "      <td>manuell</td>\n",
       "      <td>109</td>\n",
       "      <td>2_reihe</td>\n",
       "      <td>150000</td>\n",
       "      <td>8</td>\n",
       "      <td>benzin</td>\n",
       "      <td>peugeot</td>\n",
       "      <td>nein</td>\n",
       "      <td>2016-04-01 00:00:00</td>\n",
       "      <td>0</td>\n",
       "      <td>67112</td>\n",
       "      <td>2016-04-05 18:18:39</td>\n",
       "    </tr>\n",
       "    <tr>\n",
       "      <th>7</th>\n",
       "      <td>2016-03-21 18:54:38</td>\n",
       "      <td>VW_Derby_Bj_80__Scheunenfund</td>\n",
       "      <td>privat</td>\n",
       "      <td>Angebot</td>\n",
       "      <td>0</td>\n",
       "      <td>test</td>\n",
       "      <td>limousine</td>\n",
       "      <td>1980</td>\n",
       "      <td>manuell</td>\n",
       "      <td>50</td>\n",
       "      <td>andere</td>\n",
       "      <td>40000</td>\n",
       "      <td>7</td>\n",
       "      <td>benzin</td>\n",
       "      <td>volkswagen</td>\n",
       "      <td>nein</td>\n",
       "      <td>2016-03-21 00:00:00</td>\n",
       "      <td>0</td>\n",
       "      <td>19348</td>\n",
       "      <td>2016-03-25 16:47:58</td>\n",
       "    </tr>\n",
       "    <tr>\n",
       "      <th>8</th>\n",
       "      <td>2016-04-04 23:42:13</td>\n",
       "      <td>Ford_C___Max_Titanium_1_0_L_EcoBoost</td>\n",
       "      <td>privat</td>\n",
       "      <td>Angebot</td>\n",
       "      <td>14500</td>\n",
       "      <td>control</td>\n",
       "      <td>bus</td>\n",
       "      <td>2014</td>\n",
       "      <td>manuell</td>\n",
       "      <td>125</td>\n",
       "      <td>c_max</td>\n",
       "      <td>30000</td>\n",
       "      <td>8</td>\n",
       "      <td>benzin</td>\n",
       "      <td>ford</td>\n",
       "      <td>NaN</td>\n",
       "      <td>2016-04-04 00:00:00</td>\n",
       "      <td>0</td>\n",
       "      <td>94505</td>\n",
       "      <td>2016-04-04 23:42:13</td>\n",
       "    </tr>\n",
       "    <tr>\n",
       "      <th>9</th>\n",
       "      <td>2016-03-17 10:53:50</td>\n",
       "      <td>VW_Golf_4_5_tuerig_zu_verkaufen_mit_Anhaengerk...</td>\n",
       "      <td>privat</td>\n",
       "      <td>Angebot</td>\n",
       "      <td>999</td>\n",
       "      <td>test</td>\n",
       "      <td>kleinwagen</td>\n",
       "      <td>1998</td>\n",
       "      <td>manuell</td>\n",
       "      <td>101</td>\n",
       "      <td>golf</td>\n",
       "      <td>150000</td>\n",
       "      <td>0</td>\n",
       "      <td>NaN</td>\n",
       "      <td>volkswagen</td>\n",
       "      <td>NaN</td>\n",
       "      <td>2016-03-17 00:00:00</td>\n",
       "      <td>0</td>\n",
       "      <td>27472</td>\n",
       "      <td>2016-03-31 17:17:06</td>\n",
       "    </tr>\n",
       "  </tbody>\n",
       "</table>\n",
       "</div>"
      ],
      "text/plain": [
       "           dateCrawled                                               name  \\\n",
       "0  2016-03-24 11:52:17                                         Golf_3_1.6   \n",
       "1  2016-03-24 10:58:45                               A5_Sportback_2.7_Tdi   \n",
       "2  2016-03-14 12:52:21                     Jeep_Grand_Cherokee_\"Overland\"   \n",
       "3  2016-03-17 16:54:04                                 GOLF_4_1_4__3T�RER   \n",
       "4  2016-03-31 17:25:20                     Skoda_Fabia_1.4_TDI_PD_Classic   \n",
       "5  2016-04-04 17:36:23  BMW_316i___e36_Limousine___Bastlerfahrzeug__Ex...   \n",
       "6  2016-04-01 20:48:51                        Peugeot_206_CC_110_Platinum   \n",
       "7  2016-03-21 18:54:38                       VW_Derby_Bj_80__Scheunenfund   \n",
       "8  2016-04-04 23:42:13               Ford_C___Max_Titanium_1_0_L_EcoBoost   \n",
       "9  2016-03-17 10:53:50  VW_Golf_4_5_tuerig_zu_verkaufen_mit_Anhaengerk...   \n",
       "\n",
       "   seller offerType  price   abtest vehicleType  yearOfRegistration  \\\n",
       "0  privat   Angebot    480     test         NaN                1993   \n",
       "1  privat   Angebot  18300     test       coupe                2011   \n",
       "2  privat   Angebot   9800     test         suv                2004   \n",
       "3  privat   Angebot   1500     test  kleinwagen                2001   \n",
       "4  privat   Angebot   3600     test  kleinwagen                2008   \n",
       "5  privat   Angebot    650     test   limousine                1995   \n",
       "6  privat   Angebot   2200     test      cabrio                2004   \n",
       "7  privat   Angebot      0     test   limousine                1980   \n",
       "8  privat   Angebot  14500  control         bus                2014   \n",
       "9  privat   Angebot    999     test  kleinwagen                1998   \n",
       "\n",
       "     gearbox  powerPS    model  kilometer  monthOfRegistration fuelType  \\\n",
       "0    manuell        0     golf     150000                    0   benzin   \n",
       "1    manuell      190      NaN     125000                    5   diesel   \n",
       "2  automatik      163    grand     125000                    8   diesel   \n",
       "3    manuell       75     golf     150000                    6   benzin   \n",
       "4    manuell       69    fabia      90000                    7   diesel   \n",
       "5    manuell      102      3er     150000                   10   benzin   \n",
       "6    manuell      109  2_reihe     150000                    8   benzin   \n",
       "7    manuell       50   andere      40000                    7   benzin   \n",
       "8    manuell      125    c_max      30000                    8   benzin   \n",
       "9    manuell      101     golf     150000                    0      NaN   \n",
       "\n",
       "        brand notRepairedDamage          dateCreated  nrOfPictures  \\\n",
       "0  volkswagen               NaN  2016-03-24 00:00:00             0   \n",
       "1        audi                ja  2016-03-24 00:00:00             0   \n",
       "2        jeep               NaN  2016-03-14 00:00:00             0   \n",
       "3  volkswagen              nein  2016-03-17 00:00:00             0   \n",
       "4       skoda              nein  2016-03-31 00:00:00             0   \n",
       "5         bmw                ja  2016-04-04 00:00:00             0   \n",
       "6     peugeot              nein  2016-04-01 00:00:00             0   \n",
       "7  volkswagen              nein  2016-03-21 00:00:00             0   \n",
       "8        ford               NaN  2016-04-04 00:00:00             0   \n",
       "9  volkswagen               NaN  2016-03-17 00:00:00             0   \n",
       "\n",
       "   postalCode             lastSeen  \n",
       "0       70435  2016-04-07 03:16:57  \n",
       "1       66954  2016-04-07 01:46:50  \n",
       "2       90480  2016-04-05 12:47:46  \n",
       "3       91074  2016-03-17 17:40:17  \n",
       "4       60437  2016-04-06 10:17:21  \n",
       "5       33775  2016-04-06 19:17:07  \n",
       "6       67112  2016-04-05 18:18:39  \n",
       "7       19348  2016-03-25 16:47:58  \n",
       "8       94505  2016-04-04 23:42:13  \n",
       "9       27472  2016-03-31 17:17:06  "
      ]
     },
     "execution_count": 8,
     "metadata": {},
     "output_type": "execute_result"
    }
   ],
   "source": [
    "test.head(10)"
   ]
  },
  {
   "cell_type": "markdown",
   "id": "882fd59f",
   "metadata": {},
   "source": [
    "### Find the average price of autos "
   ]
  },
  {
   "cell_type": "code",
   "execution_count": 13,
   "id": "d9bfa740",
   "metadata": {},
   "outputs": [
    {
     "data": {
      "text/plain": [
       "17295.1419"
      ]
     },
     "execution_count": 13,
     "metadata": {},
     "output_type": "execute_result"
    }
   ],
   "source": [
    "average_price = test['price'].mean()\n",
    "round(average_price,4)"
   ]
  },
  {
   "cell_type": "markdown",
   "id": "c133a943",
   "metadata": {},
   "source": [
    "### List of different possible vehicle types"
   ]
  },
  {
   "cell_type": "code",
   "execution_count": 16,
   "id": "d6edbef0",
   "metadata": {},
   "outputs": [
    {
     "data": {
      "text/plain": [
       "[nan,\n",
       " 'coupe',\n",
       " 'suv',\n",
       " 'kleinwagen',\n",
       " 'limousine',\n",
       " 'cabrio',\n",
       " 'bus',\n",
       " 'kombi',\n",
       " 'andere']"
      ]
     },
     "execution_count": 16,
     "metadata": {},
     "output_type": "execute_result"
    }
   ],
   "source": [
    "vehicle_types=test['vehicleType'].unique()\n",
    "list(vehicle_types)"
   ]
  },
  {
   "cell_type": "markdown",
   "id": "bbbbd10e",
   "metadata": {},
   "source": [
    "### Lowest and Highest yearOfRegistration value"
   ]
  },
  {
   "cell_type": "code",
   "execution_count": 18,
   "id": "44787355",
   "metadata": {},
   "outputs": [
    {
     "name": "stdout",
     "output_type": "stream",
     "text": [
      "9999\n",
      "1000\n"
     ]
    }
   ],
   "source": [
    "year = test['yearOfRegistration']\n",
    "print(year.max())\n",
    "print(year.min())"
   ]
  },
  {
   "cell_type": "markdown",
   "id": "1843047e",
   "metadata": {},
   "source": [
    "values like 9999 and 1000 are erroneous and must be taken care of during data cleaning process. Although it does not make any logical sense as of now these are the maximum and minimum yearOfRegistration values according to the given dataset"
   ]
  },
  {
   "cell_type": "markdown",
   "id": "56cad499",
   "metadata": {},
   "source": [
    "### Standard deviation of the Kilometer column"
   ]
  },
  {
   "cell_type": "code",
   "execution_count": 20,
   "id": "cb507fe6",
   "metadata": {},
   "outputs": [
    {
     "data": {
      "text/plain": [
       "40112.3371"
      ]
     },
     "execution_count": 20,
     "metadata": {},
     "output_type": "execute_result"
    }
   ],
   "source": [
    "deviation=test['kilometer'].std()\n",
    "round(deviation,4)"
   ]
  },
  {
   "cell_type": "markdown",
   "id": "3cd8fa8b",
   "metadata": {},
   "source": [
    "### Bar graph showing different brand values and their count"
   ]
  },
  {
   "cell_type": "code",
   "execution_count": 27,
   "id": "256f8211",
   "metadata": {},
   "outputs": [
    {
     "data": {
      "text/plain": [
       "Text(0.5, 1.0, 'Brand count graph')"
      ]
     },
     "execution_count": 27,
     "metadata": {},
     "output_type": "execute_result"
    },
    {
     "data": {
      "image/png": "[encoded data removed]",
      "text/plain": [
       "<Figure size 432x288 with 1 Axes>"
      ]
     },
     "metadata": {
      "needs_background": "light"
     },
     "output_type": "display_data"
    }
   ],
   "source": [
    "brands=test['brand'].value_counts()\n",
    "dict_brand=dict(brands)\n",
    "brx=list(dict_brand.keys())\n",
    "cnty=list(dict_brand.values())\n",
    "plt.bar(brx,cnty,align='center')\n",
    "plt.xlabel('brands')\n",
    "plt.xticks(rotation='vertical')\n",
    "plt.ylabel('count')\n",
    "plt.title('Brand count graph')"
   ]
  },
  {
   "cell_type": "markdown",
   "id": "7f20729e",
   "metadata": {},
   "source": [
    "#### value_counts() function returns the values in descinding order.Hence the graph is following a decreasing trend"
   ]
  },
  {
   "cell_type": "markdown",
   "id": "940901f0",
   "metadata": {},
   "source": [
    "### FInd which vehicleType was sold the most and the least"
   ]
  },
  {
   "cell_type": "code",
   "execution_count": 29,
   "id": "7d0d3a83",
   "metadata": {},
   "outputs": [
    {
     "name": "stdout",
     "output_type": "stream",
     "text": [
      "volkswagen 79640\n",
      "lada 225\n"
     ]
    }
   ],
   "source": [
    "brand_list=list(dict_brand.keys())\n",
    "print(brand_list[0],dict_brand[brand_list[0]])\n",
    "print(brand_list[-1],dict_brand[brand_list[-1]])"
   ]
  },
  {
   "cell_type": "markdown",
   "id": "c57a0c92",
   "metadata": {},
   "source": [
    "#### As the dictionary has the values of vehicleType and count of each type in descinding order, by getting the values of the first and the last index we can get the vehicleType sold most and the least respectively"
   ]
  },
  {
   "cell_type": "markdown",
   "id": "45dd1495",
   "metadata": {},
   "source": [
    "### Pie chart to represent different types of Gearboxes"
   ]
  },
  {
   "cell_type": "code",
   "execution_count": 33,
   "id": "c68c3c20",
   "metadata": {},
   "outputs": [
    {
     "data": {
      "text/plain": [
       "([<matplotlib.patches.Wedge at 0x191e8fbb7c0>,\n",
       "  <matplotlib.patches.Wedge at 0x191e8fbbeb0>],\n",
       " [Text(-0.8487245220521568, 0.6997618778322654, 'manuell'),\n",
       "  Text(0.8487245548103735, -0.6997618381006024, 'automatik')],\n",
       " [Text(-0.46294064839208543, 0.3816882969994174, '78.1%'),\n",
       "  Text(0.46294066626020364, -0.3816882753276013, '21.9%')])"
      ]
     },
     "execution_count": 33,
     "metadata": {},
     "output_type": "execute_result"
    },
    {
     "data": {
      "image/png": "[encoded data removed]",
      "text/plain": [
       "<Figure size 432x288 with 1 Axes>"
      ]
     },
     "metadata": {},
     "output_type": "display_data"
    }
   ],
   "source": [
    "gear=test['gearbox'].dropna().unique()\n",
    "gear_cnt=test['gearbox'].value_counts()\n",
    "labels=list(gear)\n",
    "size=list(gear_cnt)\n",
    "plt.pie(size,labels=labels,autopct='%1.1f%%')"
   ]
  },
  {
   "cell_type": "code",
   "execution_count": null,
   "id": "b8886121",
   "metadata": {},
   "outputs": [],
   "source": []
  }
 ],
 "metadata": {
  "kernelspec": {
   "display_name": "Python 3",
   "language": "python",
   "name": "python3"
  },
  "language_info": {
   "codemirror_mode": {
    "name": "ipython",
    "version": 3
   },
   "file_extension": ".py",
   "mimetype": "text/x-python",
   "name": "python",
   "nbconvert_exporter": "python",
   "pygments_lexer": "ipython3",
   "version": "3.8.8"
  }
 },
 "nbformat": 4,
 "nbformat_minor": 5
}
