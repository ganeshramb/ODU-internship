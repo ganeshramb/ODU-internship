{
 "cells": [
  {
   "cell_type": "markdown",
   "id": "ab019058",
   "metadata": {},
   "source": [
    "## Quetsion 4\n",
    "\n",
    "### Given a string, find the length of the longest repeating subsequence, such that the two subsequences don’t have the same string character at the same position, i.e. any ith character in the two subsequences shouldn’t have the same index in the original string."
   ]
  },
  {
   "cell_type": "code",
   "execution_count": null,
   "id": "68be4207",
   "metadata": {},
   "outputs": [],
   "source": [
    "'''\n",
    "    A subsequence is a part of a string where the order must be preserved but the elements can be discontinous\n",
    "    in this case we are supposed to find the larges repeating subsequence such that none of the indices of the ganerated \n",
    "    subsequences match the ones in the original string.\n",
    "    \n",
    "    In order to do that we must find out all the repeating values in the string and then try to figure out which among them\n",
    "    is the longest.\n",
    "    \n",
    "    by using nested for loops we iterate through the string to find repeating matches and check if the length of current \n",
    "    repeating subsequence greater than the previous once if not then use max function to find the larger subsequence \n",
    "    and call that the longest subsequence.\n",
    "    \n",
    "    after completeing traversal through the string and getting the longest subsequence use len() function to find out the \n",
    "    length of the longest substring and return the length value\n",
    "    \n",
    "'''"
   ]
  }
 ],
 "metadata": {
  "kernelspec": {
   "display_name": "Python 3",
   "language": "python",
   "name": "python3"
  },
  "language_info": {
   "codemirror_mode": {
    "name": "ipython",
    "version": 3
   },
   "file_extension": ".py",
   "mimetype": "text/x-python",
   "name": "python",
   "nbconvert_exporter": "python",
   "pygments_lexer": "ipython3",
   "version": "3.8.8"
  }
 },
 "nbformat": 4,
 "nbformat_minor": 5
}
